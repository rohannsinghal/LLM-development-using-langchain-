{
 "cells": [
  {
   "cell_type": "code",
   "execution_count": 1,
   "id": "a2c1746a",
   "metadata": {},
   "outputs": [],
   "source": [
    "import os\n",
    "\n",
    "from dotenv import load_dotenv, find_dotenv\n",
    "_ = load_dotenv(find_dotenv()) # read local .env file"
   ]
  },
  {
   "cell_type": "code",
   "execution_count": 6,
   "id": "b4852aaf",
   "metadata": {},
   "outputs": [],
   "source": [
    "import pandas as pd\n"
   ]
  },
  {
   "cell_type": "code",
   "execution_count": 11,
   "id": "b7c8a12d",
   "metadata": {},
   "outputs": [],
   "source": [
    "from langchain.chat_models import ChatOpenAI\n",
    "from langchain.prompts import ChatPromptTemplate\n",
    "from langchain.chains import LLMChain"
   ]
  },
  {
   "cell_type": "code",
   "execution_count": 18,
   "id": "60ea39ae",
   "metadata": {},
   "outputs": [],
   "source": [
    "llm = ChatOpenAI(temperature=0.9, model='gpt-3.5-turbo',openai_api_key='sk-proj-1RqDoBmJooaw5OsaklYeT3BlbkFJWJvfpLOOOWE1EinK6H7O')"
   ]
  },
  {
   "cell_type": "code",
   "execution_count": 13,
   "id": "474a45a9",
   "metadata": {},
   "outputs": [],
   "source": [
    "prompt = ChatPromptTemplate.from_template(\n",
    "    \"What is the best name to describe \\\n",
    "    a company that makes {product}?\"\n",
    ")"
   ]
  },
  {
   "cell_type": "code",
   "execution_count": 19,
   "id": "8d1cd1e1",
   "metadata": {},
   "outputs": [
    {
     "name": "stderr",
     "output_type": "stream",
     "text": [
      "/Users/admin/anaconda3/lib/python3.11/site-packages/langchain_core/_api/deprecation.py:139: LangChainDeprecationWarning: The class `LLMChain` was deprecated in LangChain 0.1.17 and will be removed in 0.3.0. Use RunnableSequence, e.g., `prompt | llm` instead.\n",
      "  warn_deprecated(\n"
     ]
    }
   ],
   "source": [
    "chain = LLMChain(llm=llm, prompt=prompt)"
   ]
  },
  {
   "cell_type": "code",
   "execution_count": 20,
   "id": "b77e468e",
   "metadata": {},
   "outputs": [
    {
     "name": "stderr",
     "output_type": "stream",
     "text": [
      "/Users/admin/anaconda3/lib/python3.11/site-packages/langchain_core/_api/deprecation.py:139: LangChainDeprecationWarning: The method `Chain.run` was deprecated in langchain 0.1.0 and will be removed in 0.3.0. Use invoke instead.\n",
      "  warn_deprecated(\n"
     ]
    },
    {
     "data": {
      "text/plain": [
       "'\"Royal Comfort Linens\"'"
      ]
     },
     "execution_count": 20,
     "metadata": {},
     "output_type": "execute_result"
    }
   ],
   "source": [
    "product = \"Queen Size Sheet Set\"\n",
    "chain.run(product)"
   ]
  },
  {
   "cell_type": "code",
   "execution_count": 22,
   "id": "aaf9832f",
   "metadata": {},
   "outputs": [
    {
     "data": {
      "text/plain": [
       "'\"Cozy Nest Creations\"'"
      ]
     },
     "execution_count": 22,
     "metadata": {},
     "output_type": "execute_result"
    }
   ],
   "source": [
    "product=\"Pillows Insert\"\n",
    "chain.run(product)"
   ]
  },
  {
   "cell_type": "code",
   "execution_count": 23,
   "id": "8870624d",
   "metadata": {},
   "outputs": [
    {
     "data": {
      "text/plain": [
       "'\"CloudLux\"'"
      ]
     },
     "execution_count": 23,
     "metadata": {},
     "output_type": "execute_result"
    }
   ],
   "source": [
    "product=\"luxury air matresses\"\n",
    "chain.run(product)"
   ]
  },
  {
   "cell_type": "code",
   "execution_count": 24,
   "id": "73ad43b1",
   "metadata": {},
   "outputs": [
    {
     "data": {
      "text/plain": [
       "'\"Elite Journals\"'"
      ]
     },
     "execution_count": 24,
     "metadata": {},
     "output_type": "execute_result"
    }
   ],
   "source": [
    "product=\"notebooks\"\n",
    "chain.run(product)"
   ]
  },
  {
   "cell_type": "code",
   "execution_count": 25,
   "id": "1c258a09",
   "metadata": {},
   "outputs": [
    {
     "data": {
      "text/plain": [
       "'\"Strategic Insights Solutions\"'"
      ]
     },
     "execution_count": 25,
     "metadata": {},
     "output_type": "execute_result"
    }
   ],
   "source": [
    "product=\"llm model used to improve marketing\"\n",
    "chain.run(product)"
   ]
  },
  {
   "cell_type": "code",
   "execution_count": 26,
   "id": "96a19d6a",
   "metadata": {},
   "outputs": [
    {
     "data": {
      "text/plain": [
       "'\"Photon Amplification Technologies\"'"
      ]
     },
     "execution_count": 26,
     "metadata": {},
     "output_type": "execute_result"
    }
   ],
   "source": [
    "product=\"Electron Multiplying Charge-Coupled Device (EMCCD) Camera\"\n",
    "chain.run(product)"
   ]
  },
  {
   "cell_type": "code",
   "execution_count": 27,
   "id": "43559793",
   "metadata": {},
   "outputs": [],
   "source": [
    "from langchain.chains import SimpleSequentialChain"
   ]
  },
  {
   "cell_type": "code",
   "execution_count": 34,
   "id": "ce104322",
   "metadata": {},
   "outputs": [],
   "source": [
    "llm = ChatOpenAI(temperature=0.9, model='gpt-3.5-turbo',openai_api_key='sk-proj-1RqDoBmJooaw5OsaklYeT3BlbkFJWJvfpLOOOWE1EinK6H7O')\n",
    "\n",
    "# prompt template 1\n",
    "first_prompt = ChatPromptTemplate.from_template(\n",
    "    \"What is the best name to describe \\\n",
    "    a company that makes {product}?\"\n",
    ")\n",
    "product=\"stationary\"\n",
    "\n",
    "# Chain 1\n",
    "chain_one = LLMChain(llm=llm, prompt=first_prompt)"
   ]
  },
  {
   "cell_type": "code",
   "execution_count": 35,
   "id": "a12c3849",
   "metadata": {},
   "outputs": [],
   "source": [
    "# prompt template 2\n",
    "second_prompt = ChatPromptTemplate.from_template(\n",
    "    \"Write a 20 words description for the following \\\n",
    "    company:{company_name}\"\n",
    ")\n",
    "# chain 2\n",
    "chain_two = LLMChain(llm=llm, prompt=second_prompt)"
   ]
  },
  {
   "cell_type": "code",
   "execution_count": 36,
   "id": "cda62e0f",
   "metadata": {},
   "outputs": [],
   "source": [
    "overall_simple_chain = SimpleSequentialChain(chains=[chain_one, chain_two],\n",
    "                                             verbose=True\n",
    "                                            )"
   ]
  },
  {
   "cell_type": "code",
   "execution_count": 37,
   "id": "222b4825",
   "metadata": {},
   "outputs": [
    {
     "name": "stdout",
     "output_type": "stream",
     "text": [
      "\n",
      "\n",
      "\u001b[1m> Entering new SimpleSequentialChain chain...\u001b[0m\n",
      "\u001b[36;1m\u001b[1;3m\"PaperWorks\"\u001b[0m\n",
      "\u001b[33;1m\u001b[1;3mPaperWorks provides eco-friendly paper products including notebooks, stationery, and packaging solutions to promote sustainable living and creativity.\u001b[0m\n",
      "\n",
      "\u001b[1m> Finished chain.\u001b[0m\n"
     ]
    },
    {
     "data": {
      "text/plain": [
       "'PaperWorks provides eco-friendly paper products including notebooks, stationery, and packaging solutions to promote sustainable living and creativity.'"
      ]
     },
     "execution_count": 37,
     "metadata": {},
     "output_type": "execute_result"
    }
   ],
   "source": [
    "overall_simple_chain.run(product)"
   ]
  },
  {
   "cell_type": "code",
   "execution_count": 38,
   "id": "600e0da7",
   "metadata": {},
   "outputs": [],
   "source": [
    "from langchain.chains import SequentialChain"
   ]
  },
  {
   "cell_type": "code",
   "execution_count": 52,
   "id": "9133d28f",
   "metadata": {},
   "outputs": [],
   "source": [
    "llm = ChatOpenAI(temperature=0.9, model='gpt-3.5-turbo',openai_api_key='sk-proj-1RqDoBmJooaw5OsaklYeT3BlbkFJWJvfpLOOOWE1EinK6H7O')\n",
    "\n",
    "# prompt template 1: translate to english\n",
    "first_prompt = ChatPromptTemplate.from_template(\n",
    "    \"Translate the following review to hindi:\"\n",
    "    \"\\n\\n{Review}\"\n",
    ")\n",
    "# chain 1: input= Review and output= English_Review\n",
    "chain_one = LLMChain(llm=llm, prompt=first_prompt, \n",
    "                     output_key=\"Hindi_Review\"\n",
    "                    )\n"
   ]
  },
  {
   "cell_type": "code",
   "execution_count": 53,
   "id": "a0b2d23b",
   "metadata": {},
   "outputs": [],
   "source": [
    "second_prompt = ChatPromptTemplate.from_template(\n",
    "    \"Can you summarize the following review in 1 sentence:\"\n",
    "    \"\\n\\n{Hindi_Review}\"\n",
    ")\n",
    "# chain 2: input= English_Review and output= summary\n",
    "chain_two = LLMChain(llm=llm, prompt=second_prompt, \n",
    "                     output_key=\"summary\"\n",
    "                    )\n"
   ]
  },
  {
   "cell_type": "code",
   "execution_count": 54,
   "id": "1215c582",
   "metadata": {},
   "outputs": [],
   "source": [
    "# prompt template 3: translate to english\n",
    "third_prompt = ChatPromptTemplate.from_template(\n",
    "    \"What language is the following review:\\n\\n{Review}\"\n",
    ")\n",
    "# chain 3: input= Review and output= language\n",
    "chain_three = LLMChain(llm=llm, prompt=third_prompt,\n",
    "                       output_key=\"language\"\n",
    "                      )\n"
   ]
  },
  {
   "cell_type": "code",
   "execution_count": 55,
   "id": "9a3d3d79",
   "metadata": {},
   "outputs": [],
   "source": [
    "# prompt template 4: follow up message\n",
    "fourth_prompt = ChatPromptTemplate.from_template(\n",
    "    \"Write a follow up response to the following \"\n",
    "    \"summary in the specified language:\"\n",
    "    \"\\n\\nSummary: {summary}\\n\\nLanguage: {language}\"\n",
    ")\n",
    "# chain 4: input= summary, language and output= followup_message\n",
    "chain_four = LLMChain(llm=llm, prompt=fourth_prompt,\n",
    "                      output_key=\"followup_message\"\n",
    "                     )\n"
   ]
  },
  {
   "cell_type": "code",
   "execution_count": 56,
   "id": "9efe3995",
   "metadata": {},
   "outputs": [],
   "source": [
    "# overall_chain: input= Review \n",
    "# and output= English_Review,summary, followup_message\n",
    "overall_chain = SequentialChain(\n",
    "    chains=[chain_one, chain_two, chain_three, chain_four],\n",
    "    input_variables=[\"Review\"],\n",
    "    output_variables=[\"Hindi_Review\", \"summary\",\"followup_message\"],\n",
    "    verbose=True\n",
    ")"
   ]
  },
  {
   "cell_type": "code",
   "execution_count": 57,
   "id": "31c10483",
   "metadata": {},
   "outputs": [
    {
     "name": "stdout",
     "output_type": "stream",
     "text": [
      "\n",
      "\n",
      "\u001b[1m> Entering new SequentialChain chain...\u001b[0m\n",
      "\n",
      "\u001b[1m> Finished chain.\u001b[0m\n"
     ]
    },
    {
     "data": {
      "text/plain": [
       "{'Review': '\\nProduct Review: HyperTech Smartwatch X3Overview:The HyperTech Smartwatch X3 promises to be the ultimate companion for tech enthusiasts and fitness buffs alike, boasting a sleek design and a wide range of features.Design (4.5/5):The Smartwatch X3 impresses with its modern and minimalist design. The stainless steel casing gives it a premium feel, while the vibrant AMOLED display is sharp and easy to read, even under direct sunlight. The interchangeable straps allow for customization, catering to different styles and occasions.\\nFeatures (4/5):This smartwatch packs a punch when it comes to features. It includes:\\nFitness Tracking: Accurate heart rate monitoring, step counting, and sleep tracking provide comprehensive health insights.Notifications: Seamless integration with smartphones for notifications, calls, and messages keeps users connected without needing to check their phones.Battery Life: The battery life is decent, lasting up to 5 days with moderate use, although heavy GPS or music usage can drain it faster.Water Resistance: Its water-resistant up to 50 meters, making it suitable for swimming and showering.Performance (4.5/5):In everyday use, the Smartwatch X3 performs admirably. Navigation through menus is smooth, and apps load quickly. The touch response on the screen is precise, enhancing user interaction. The accuracy of fitness tracking metrics is commendable, providing users with actionable data to improve their health and fitness routines.\\nUsability (4/5):Setting up the Smartwatch X3 is straightforward, thanks to the intuitive companion app. Users can customize watch faces, set fitness goals, and manage notifications effortlessly. However, some users may find the interface slightly overwhelming initially, especially with the abundance of features.\\nValue for Money (3.5/5):Priced competitively within the smartwatch market, the Smartwatch X3 offers good value for money considering its robust feature set and quality build. However, potential buyers should weigh their specific needs against the price tag, as cheaper alternatives with similar functionalities exist.\\nOverall Rating: 4/5\\nPros:\\nStylish and durable designComprehensive fitness trackingResponsive touchscreenGood battery life for a smartwatchCons:\\nInterface may be complex for some usersPricey compared to basic fitness trackers\\n',\n",
       " 'Hindi_Review': 'उत्पाद समीक्षा: हाइपरटेक स्मार्टवॉच X3अवलोकन: हाइपरटेक स्मार्टवॉच X3 वास्तव में तकनीकी प्रेमियों और फिटनेस बफ्स के लिए परम साथी होने का वादा करता है, जिसमें एक स्लीक डिजाइन और कई फीचर्स हैं।डिजाइन (4.5/5):स्मार्टवॉच X3 ने अपने आधुनिक और न्यूनतम डिजाइन के साथ प्रभाव छोड़ा। उसके जंगरे स्टील केसिंग ने इसे प्रीमियम महसूस कराया, जबकि जानदार AMOLED डिस्प्ले तीखा है और सीधे सूरज के प्रकोप यहां तक कि पढ़ना आसान है। विभिन्न शैलियों और अवसरों की देखभाल के लिए अंतर्दाताएं संशोधन करने की अनुमति देती हैं।विशेषताएं (4/5):यह स्मार्टवॉच विशेषताओं के मामले में एक धांसू पैक है। इसमें शामिल है:फिटनेस ट्रैकिंग: सटीक हृदय दर मॉनिटरिंग, कदम गिनती, और नींद का ट्रैकिंग व्यापक स्वास्थ्य अनुभव प्रदान करता है।सूचनाएँ: स्मार्टफोनों के साथ सहज एकीकरण के लिए सूचनाएं, कॉल और संदेश उपयोगकर्ताओं को बिना अपने फोन की जांच के संपर्क में रखते हैं।बैटरी लाइफ: बैटरी लाइफ अच्छी है, मध्यम उपयोग के साथ 5 दिन तक चलती है, हालांकि भारी GPS या संगीत का उपयोग इसे तेजी से खाली कर सकता है।जल प्रतिरोध: यह 50 मीटर तक पानी में सहनशील है, जिससे यह तैराकी और शावरिंग के लिए उपयुक्त है।प्रदर्शन (4.5/5):रोज़ इस्तेमाल में, स्मार्टवॉच X3 प्रशंसनीय प्रदर्शन करता है। मेन्यू के माध्यम से नेविगेशन सहज है, और ऐप्स तेजी से लोड होते हैं। स्क्रीन पर टच करने की प्रतिक्रिया सटीक है, उपयोगकर्ता इंटरेक्शन को बढ़ावा देती है। फिटनेस ट्रैकिंग मेट्रिक्स की सटीकता सराहनीय है, उपयोगकर्ताओं को उनके स्वास्थ्य और फिटनेस रूटीन्स में सुधार के लिए कार्रवाईकारी डेटा प्रदान करती है।उपयोगिता (4/5):स्मार्टवॉच X3 को सेट करना सरल है, धन्यवाद एक संज्ञानशील संगीत सहायक ऐप के। उपयोगकर्ता वॉच फेस कस्टमाइज़ कर सकते हैं, फिटनेस लक्ष्यों को सेट कर सकते हैं, और सूचनाएं सरलता से प्रबंधित कर सकते हैं। हालांकि, कुछ उपयोगकर्ता आदर्श से अधिकाधिक फीचर्स के साथ पहले थोड़ा अवे�...',\n",
       " 'summary': 'The Hyper Tech Smartwatch X3 is a sleek and feature-packed device promising to be a perfect companion for tech enthusiasts and fitness buffs.',\n",
       " 'followup_message': \"I'm really impressed with the features and design of the Hyper Tech Smartwatch X3. It seems like the perfect gadget for anyone who loves technology and staying active. I can't wait to get my hands on one and see how it enhances my daily routine.\"}"
      ]
     },
     "execution_count": 57,
     "metadata": {},
     "output_type": "execute_result"
    }
   ],
   "source": [
    "review ='''\n",
    "Product Review: HyperTech Smartwatch X3\\\n",
    "Overview:The HyperTech Smartwatch X3 promises to be the ultimate companion for tech enthusiasts and fitness buffs alike, boasting a sleek design and a wide range of features.\\\n",
    "Design (4.5/5):The Smartwatch X3 impresses with its modern and minimalist design. The stainless steel casing gives it a premium feel, while the vibrant AMOLED display is sharp and easy to read, even under direct sunlight. The interchangeable straps allow for customization, catering to different styles and occasions.\\\n",
    "\n",
    "Features (4/5):\\\n",
    "This smartwatch packs a punch when it comes to features. It includes:\\\n",
    "\n",
    "Fitness Tracking: Accurate heart rate monitoring, step counting, and sleep tracking provide comprehensive health insights.\\\n",
    "Notifications: Seamless integration with smartphones for notifications, calls, and messages keeps users connected without needing to check their phones.\\\n",
    "Battery Life: The battery life is decent, lasting up to 5 days with moderate use, although heavy GPS or music usage can drain it faster.\\\n",
    "Water Resistance: Its water-resistant up to 50 meters, making it suitable for swimming and showering.\\\n",
    "Performance (4.5/5):\\\n",
    "In everyday use, the Smartwatch X3 performs admirably. Navigation through menus is smooth, and apps load quickly. The touch response on the screen is precise, enhancing user interaction. The accuracy of fitness tracking metrics is commendable, providing users with actionable data to improve their health and fitness routines.\\\n",
    "\n",
    "Usability (4/5):\\\n",
    "Setting up the Smartwatch X3 is straightforward, thanks to the intuitive companion app. Users can customize watch faces, set fitness goals, and manage notifications effortlessly. However, some users may find the interface slightly overwhelming initially, especially with the abundance of features.\\\n",
    "\n",
    "Value for Money (3.5/5):\\\n",
    "Priced competitively within the smartwatch market, the Smartwatch X3 offers good value for money considering its robust feature set and quality build. However, potential buyers should weigh their specific needs against the price tag, as cheaper alternatives with similar functionalities exist.\\\n",
    "\n",
    "Overall Rating: 4/5\\\n",
    "\n",
    "Pros:\\\n",
    "\n",
    "Stylish and durable design\\\n",
    "Comprehensive fitness tracking\\\n",
    "Responsive touchscreen\\\n",
    "Good battery life for a smartwatch\\\n",
    "Cons:\\\n",
    "\n",
    "Interface may be complex for some users\\\n",
    "Pricey compared to basic fitness trackers\n",
    "'''\n",
    "\n",
    "overall_chain(review)"
   ]
  },
  {
   "cell_type": "code",
   "execution_count": null,
   "id": "b1493162",
   "metadata": {},
   "outputs": [],
   "source": [
    "physics_template = \"\"\"You are a very smart physics professor. \\\n",
    "You are great at answering questions about physics in a concise\\\n",
    "and easy to understand manner. \\\n",
    "When you don't know the answer to a question you admit\\\n",
    "that you don't know.\n",
    "\n",
    "Here is a question:\n",
    "{input}\"\"\"\n",
    "\n",
    "\n",
    "math_template = \"\"\"You are a very good mathematician. \\\n",
    "You are great at answering math questions. \\\n",
    "You are so good because you are able to break down \\\n",
    "hard problems into their component parts, \n",
    "answer the component parts, and then put them together\\\n",
    "to answer the broader question.\n",
    "\n",
    "Here is a question:\n",
    "{input}\"\"\"\n",
    "\n",
    "history_template = \"\"\"You are a very good historian. \\\n",
    "You have an excellent knowledge of and understanding of people,\\\n",
    "events and contexts from a range of historical periods. \\\n",
    "You have the ability to think, reflect, debate, discuss and \\\n",
    "evaluate the past. You have a respect for historical evidence\\\n",
    "and the ability to make use of it to support your explanations \\\n",
    "and judgements.\n",
    "\n",
    "Here is a question:\n",
    "{input}\"\"\"\n",
    "\n",
    "\n",
    "computerscience_template = \"\"\" You are a successful computer scientist.\\\n",
    "You have a passion for creativity, collaboration,\\\n",
    "forward-thinking, confidence, strong problem-solving capabilities,\\\n",
    "understanding of theories and algorithms, and excellent communication \\\n",
    "skills. You are great at answering coding questions. \\\n",
    "You are so good because you know how to solve a problem by \\\n",
    "describing the solution in imperative steps \\\n",
    "that a machine can easily interpret and you know how to \\\n",
    "choose a solution that has a good balance between \\\n",
    "time complexity and space complexity. \n",
    "\n",
    "Here is a question:\n",
    "{input}\"\"\""
   ]
  },
  {
   "cell_type": "code",
   "execution_count": null,
   "id": "705a0a84",
   "metadata": {},
   "outputs": [],
   "source": [
    "prompt_infos = [\n",
    "    {\n",
    "        \"name\": \"physics\", \n",
    "        \"description\": \"Good for answering questions about physics\", \n",
    "        \"prompt_template\": physics_template\n",
    "    },\n",
    "    {\n",
    "        \"name\": \"math\", \n",
    "        \"description\": \"Good for answering math questions\", \n",
    "        \"prompt_template\": math_template\n",
    "    },\n",
    "    {\n",
    "        \"name\": \"History\", \n",
    "        \"description\": \"Good for answering history questions\", \n",
    "        \"prompt_template\": history_template\n",
    "    },\n",
    "    {\n",
    "        \"name\": \"computer science\", \n",
    "        \"description\": \"Good for answering computer science questions\", \n",
    "        \"prompt_template\": computerscience_template\n",
    "    }\n",
    "]"
   ]
  },
  {
   "cell_type": "code",
   "execution_count": null,
   "id": "b0163e65",
   "metadata": {},
   "outputs": [],
   "source": [
    "from langchain.chains.router import MultiPromptChain\n",
    "from langchain.chains.router.llm_router import LLMRouterChain,RouterOutputParser\n",
    "from langchain.prompts import PromptTemplate"
   ]
  },
  {
   "cell_type": "code",
   "execution_count": 69,
   "id": "0a8c8238",
   "metadata": {},
   "outputs": [],
   "source": [
    "llm = ChatOpenAI(temperature=0, model='gpt-3.5-turbo',openai_api_key='sk-proj-1RqDoBmJooaw5OsaklYeT3BlbkFJWJvfpLOOOWE1EinK6H7O')"
   ]
  },
  {
   "cell_type": "code",
   "execution_count": 70,
   "id": "544354cf",
   "metadata": {},
   "outputs": [],
   "source": [
    "destination_chains = {}\n",
    "for p_info in prompt_infos:\n",
    "    name = p_info[\"name\"]\n",
    "    prompt_template = p_info[\"prompt_template\"]\n",
    "    prompt = ChatPromptTemplate.from_template(template=prompt_template)\n",
    "    chain = LLMChain(llm=llm, prompt=prompt)\n",
    "    destination_chains[name] = chain  \n",
    "    \n",
    "destinations = [f\"{p['name']}: {p['description']}\" for p in prompt_infos]\n",
    "destinations_str = \"\\n\".join(destinations)"
   ]
  },
  {
   "cell_type": "code",
   "execution_count": 71,
   "id": "647349a1",
   "metadata": {},
   "outputs": [],
   "source": [
    "default_prompt = ChatPromptTemplate.from_template(\"{input}\")\n",
    "default_chain = LLMChain(llm=llm, prompt=default_prompt)"
   ]
  },
  {
   "cell_type": "code",
   "execution_count": 72,
   "id": "9a4fe6f5",
   "metadata": {},
   "outputs": [],
   "source": [
    "MULTI_PROMPT_ROUTER_TEMPLATE = \"\"\"Given a raw text input to a \\\n",
    "language model select the model prompt best suited for the input. \\\n",
    "You will be given the names of the available prompts and a \\\n",
    "description of what the prompt is best suited for. \\\n",
    "You may also revise the original input if you think that revising\\\n",
    "it will ultimately lead to a better response from the language model.\n",
    "\n",
    "<< FORMATTING >>\n",
    "Return a markdown code snippet with a JSON object formatted to look like:\n",
    "```json\n",
    "{{{{\n",
    "    \"destination\": string \\ name of the prompt to use or \"DEFAULT\"\n",
    "    \"next_inputs\": string \\ a potentially modified version of the original input\n",
    "}}}}\n",
    "```\n",
    "\n",
    "REMEMBER: \"destination\" MUST be one of the candidate prompt \\\n",
    "names specified below OR it can be \"DEFAULT\" if the input is not\\\n",
    "well suited for any of the candidate prompts.\n",
    "REMEMBER: \"next_inputs\" can just be the original input \\\n",
    "if you don't think any modifications are needed.\n",
    "\n",
    "<< CANDIDATE PROMPTS >>\n",
    "{destinations}\n",
    "\n",
    "<< INPUT >>\n",
    "{{input}}\n",
    "\n",
    "<< OUTPUT (remember to include the ```json)>>\"\"\""
   ]
  },
  {
   "cell_type": "code",
   "execution_count": 73,
   "id": "8b3ee1db",
   "metadata": {},
   "outputs": [],
   "source": [
    "router_template = MULTI_PROMPT_ROUTER_TEMPLATE.format(\n",
    "    destinations=destinations_str\n",
    ")\n",
    "router_prompt = PromptTemplate(\n",
    "    template=router_template,\n",
    "    input_variables=[\"input\"],\n",
    "    output_parser=RouterOutputParser(),\n",
    ")\n",
    "\n",
    "router_chain = LLMRouterChain.from_llm(llm, router_prompt)"
   ]
  },
  {
   "cell_type": "code",
   "execution_count": 74,
   "id": "8e180cea",
   "metadata": {},
   "outputs": [],
   "source": [
    "chain = MultiPromptChain(router_chain=router_chain, \n",
    "                         destination_chains=destination_chains, \n",
    "                         default_chain=default_chain, verbose=True\n",
    "                        )"
   ]
  },
  {
   "cell_type": "code",
   "execution_count": 75,
   "id": "a46beb8a",
   "metadata": {},
   "outputs": [
    {
     "name": "stdout",
     "output_type": "stream",
     "text": [
      "\n",
      "\n",
      "\u001b[1m> Entering new MultiPromptChain chain...\u001b[0m\n",
      "physics: {'input': 'What is black body radiation?'}\n",
      "\u001b[1m> Finished chain.\u001b[0m\n"
     ]
    },
    {
     "data": {
      "text/plain": [
       "\"Black body radiation refers to the electromagnetic radiation emitted by a perfect black body, which is an idealized physical body that absorbs all incident electromagnetic radiation. The radiation emitted by a black body depends only on its temperature and follows a specific distribution known as Planck's law. This radiation is characterized by a continuous spectrum of wavelengths and intensities, with the peak intensity shifting to shorter wavelengths as the temperature of the black body increases.\""
      ]
     },
     "execution_count": 75,
     "metadata": {},
     "output_type": "execute_result"
    }
   ],
   "source": [
    "chain.run(\"What is black body radiation?\")"
   ]
  },
  {
   "cell_type": "code",
   "execution_count": 76,
   "id": "09d18e69",
   "metadata": {},
   "outputs": [
    {
     "name": "stdout",
     "output_type": "stream",
     "text": [
      "\n",
      "\n",
      "\u001b[1m> Entering new MultiPromptChain chain...\u001b[0m\n",
      "math: {'input': 'what is 2 + 2'}\n",
      "\u001b[1m> Finished chain.\u001b[0m\n"
     ]
    },
    {
     "data": {
      "text/plain": [
       "'The answer to 2 + 2 is 4.'"
      ]
     },
     "execution_count": 76,
     "metadata": {},
     "output_type": "execute_result"
    }
   ],
   "source": [
    "chain.run(\"what is 2 + 2\")"
   ]
  },
  {
   "cell_type": "code",
   "execution_count": 78,
   "id": "31ed8a6e",
   "metadata": {},
   "outputs": [
    {
     "name": "stdout",
     "output_type": "stream",
     "text": [
      "\n",
      "\n",
      "\u001b[1m> Entering new MultiPromptChain chain...\u001b[0m\n"
     ]
    },
    {
     "name": "stderr",
     "output_type": "stream",
     "text": [
      "Retrying langchain_community.chat_models.openai.ChatOpenAI.completion_with_retry.<locals>._completion_with_retry in 4.0 seconds as it raised APIConnectionError: Error communicating with OpenAI: ('Connection aborted.', RemoteDisconnected('Remote end closed connection without response')).\n"
     ]
    },
    {
     "name": "stdout",
     "output_type": "stream",
     "text": [
      "computer science: {'input': 'explain concept of chain in linked list data structures'}\n",
      "\u001b[1m> Finished chain.\u001b[0m\n"
     ]
    },
    {
     "data": {
      "text/plain": [
       "'In the context of linked list data structures, a chain refers to the sequence of nodes that are linked together through pointers or references. Each node in a linked list contains two components: data and a reference to the next node in the sequence.\\n\\nThe chain in a linked list is formed by traversing through the nodes starting from the head node (the first node in the list) and following the references to the next nodes in the sequence. This allows for efficient insertion and deletion operations, as nodes can be easily rearranged by updating the references without the need to shift elements in memory.\\n\\nThe concept of a chain in a linked list is fundamental to understanding how data is organized and accessed in this data structure. By following the chain of nodes, we can iterate through the elements in the list, search for specific values, and perform various operations on the data stored in each node.\\n\\nOverall, the chain in a linked list represents the logical connection between nodes that allows for efficient traversal and manipulation of data in a dynamic and flexible manner.'"
      ]
     },
     "execution_count": 78,
     "metadata": {},
     "output_type": "execute_result"
    }
   ],
   "source": [
    "chain.run(\"explain concept of chain in llms\")"
   ]
  },
  {
   "cell_type": "code",
   "execution_count": 79,
   "id": "46c62da0",
   "metadata": {
    "scrolled": true
   },
   "outputs": [
    {
     "name": "stdout",
     "output_type": "stream",
     "text": [
      "\n",
      "\n",
      "\u001b[1m> Entering new MultiPromptChain chain...\u001b[0m\n"
     ]
    },
    {
     "name": "stderr",
     "output_type": "stream",
     "text": [
      "Retrying langchain_community.chat_models.openai.ChatOpenAI.completion_with_retry.<locals>._completion_with_retry in 4.0 seconds as it raised APIConnectionError: Error communicating with OpenAI: ('Connection aborted.', RemoteDisconnected('Remote end closed connection without response')).\n"
     ]
    },
    {
     "name": "stdout",
     "output_type": "stream",
     "text": [
      "computer science: {'input': 'what are prompt templates in large language models'}\n",
      "\u001b[1m> Finished chain.\u001b[0m\n"
     ]
    },
    {
     "data": {
      "text/plain": [
       "'Prompt templates in large language models are predefined structures or formats that can be used to guide the generation of text by the model. These templates provide a starting point or framework for the model to follow when generating responses to prompts. By using prompt templates, users can control the direction and content of the generated text, ensuring that it aligns with their desired outcome or goal. This can help improve the coherence and relevance of the generated text, making it more useful and effective for various applications such as content generation, chatbots, and language translation.'"
      ]
     },
     "execution_count": 79,
     "metadata": {},
     "output_type": "execute_result"
    }
   ],
   "source": [
    "chain.run(\"what are prompt templates in large language models\")"
   ]
  },
  {
   "cell_type": "code",
   "execution_count": null,
   "id": "36c2f7be",
   "metadata": {},
   "outputs": [],
   "source": []
  }
 ],
 "metadata": {
  "kernelspec": {
   "display_name": "Python 3 (ipykernel)",
   "language": "python",
   "name": "python3"
  },
  "language_info": {
   "codemirror_mode": {
    "name": "ipython",
    "version": 3
   },
   "file_extension": ".py",
   "mimetype": "text/x-python",
   "name": "python",
   "nbconvert_exporter": "python",
   "pygments_lexer": "ipython3",
   "version": "3.11.5"
  }
 },
 "nbformat": 4,
 "nbformat_minor": 5
}
